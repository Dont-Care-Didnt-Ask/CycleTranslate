{
  "cells": [
    {
      "cell_type": "markdown",
      "id": "e6415478-abfa-4629-bd2b-2dd99b97a543",
      "metadata": {
        "id": "e6415478-abfa-4629-bd2b-2dd99b97a543"
      },
      "source": [
        "# Baseline"
      ]
    },
    {
      "cell_type": "code",
      "execution_count": 1,
      "id": "6380081c-a3c9-43c1-bacd-263d3e14b946",
      "metadata": {
        "id": "6380081c-a3c9-43c1-bacd-263d3e14b946"
      },
      "outputs": [],
      "source": [
        "# %env CUDA_DEVICE_ORDER=PCI_BUS_ID\n",
        "# %env CUDA_VISIBLE_DEVICES=4"
      ]
    },
    {
      "cell_type": "code",
      "source": [
        "!pip uninstall transformers\n",
        "!pip uninstall sentencepiece\n",
        "!pip uninstall accelerate"
      ],
      "metadata": {
        "colab": {
          "base_uri": "https://localhost:8080/"
        },
        "id": "Lzs5ntqZtrQv",
        "outputId": "9b9bc5b4-c673-4108-cd19-d870f7894fd4"
      },
      "id": "Lzs5ntqZtrQv",
      "execution_count": 2,
      "outputs": [
        {
          "output_type": "stream",
          "name": "stdout",
          "text": [
            "\u001b[33mWARNING: Skipping transformers as it is not installed.\u001b[0m\u001b[33m\n",
            "\u001b[0m\u001b[33mWARNING: Skipping sentencepiece as it is not installed.\u001b[0m\u001b[33m\n",
            "\u001b[0m\u001b[33mWARNING: Skipping accelerate as it is not installed.\u001b[0m\u001b[33m\n",
            "\u001b[0m"
          ]
        }
      ]
    },
    {
      "cell_type": "code",
      "source": [
        "!pip install transformers==4.29\n",
        "!pip install sentencepiece\n",
        "!pip install accelerate\n",
        "!pip install sacrebleu\n",
        "!pip install evaluate"
      ],
      "metadata": {
        "colab": {
          "base_uri": "https://localhost:8080/"
        },
        "id": "RvNhVomppkVo",
        "outputId": "4b0441ec-ec50-40b2-a2cb-7d5392ac6382"
      },
      "id": "RvNhVomppkVo",
      "execution_count": 3,
      "outputs": [
        {
          "output_type": "stream",
          "name": "stdout",
          "text": [
            "Looking in indexes: https://pypi.org/simple, https://us-python.pkg.dev/colab-wheels/public/simple/\n",
            "Collecting transformers==4.29\n",
            "  Downloading transformers-4.29.0-py3-none-any.whl (7.1 MB)\n",
            "\u001b[2K     \u001b[90m━━━━━━━━━━━━━━━━━━━━━━━━━━━━━━━━━━━━━━━━\u001b[0m \u001b[32m7.1/7.1 MB\u001b[0m \u001b[31m42.3 MB/s\u001b[0m eta \u001b[36m0:00:00\u001b[0m\n",
            "\u001b[?25hRequirement already satisfied: filelock in /usr/local/lib/python3.10/dist-packages (from transformers==4.29) (3.12.0)\n",
            "Collecting huggingface-hub<1.0,>=0.11.0 (from transformers==4.29)\n",
            "  Downloading huggingface_hub-0.14.1-py3-none-any.whl (224 kB)\n",
            "\u001b[2K     \u001b[90m━━━━━━━━━━━━━━━━━━━━━━━━━━━━━━━━━━━━━━\u001b[0m \u001b[32m224.5/224.5 kB\u001b[0m \u001b[31m19.9 MB/s\u001b[0m eta \u001b[36m0:00:00\u001b[0m\n",
            "\u001b[?25hRequirement already satisfied: numpy>=1.17 in /usr/local/lib/python3.10/dist-packages (from transformers==4.29) (1.22.4)\n",
            "Requirement already satisfied: packaging>=20.0 in /usr/local/lib/python3.10/dist-packages (from transformers==4.29) (23.1)\n",
            "Requirement already satisfied: pyyaml>=5.1 in /usr/local/lib/python3.10/dist-packages (from transformers==4.29) (6.0)\n",
            "Requirement already satisfied: regex!=2019.12.17 in /usr/local/lib/python3.10/dist-packages (from transformers==4.29) (2022.10.31)\n",
            "Requirement already satisfied: requests in /usr/local/lib/python3.10/dist-packages (from transformers==4.29) (2.27.1)\n",
            "Collecting tokenizers!=0.11.3,<0.14,>=0.11.1 (from transformers==4.29)\n",
            "  Downloading tokenizers-0.13.3-cp310-cp310-manylinux_2_17_x86_64.manylinux2014_x86_64.whl (7.8 MB)\n",
            "\u001b[2K     \u001b[90m━━━━━━━━━━━━━━━━━━━━━━━━━━━━━━━━━━━━━━━━\u001b[0m \u001b[32m7.8/7.8 MB\u001b[0m \u001b[31m73.1 MB/s\u001b[0m eta \u001b[36m0:00:00\u001b[0m\n",
            "\u001b[?25hRequirement already satisfied: tqdm>=4.27 in /usr/local/lib/python3.10/dist-packages (from transformers==4.29) (4.65.0)\n",
            "Requirement already satisfied: fsspec in /usr/local/lib/python3.10/dist-packages (from huggingface-hub<1.0,>=0.11.0->transformers==4.29) (2023.4.0)\n",
            "Requirement already satisfied: typing-extensions>=3.7.4.3 in /usr/local/lib/python3.10/dist-packages (from huggingface-hub<1.0,>=0.11.0->transformers==4.29) (4.5.0)\n",
            "Requirement already satisfied: urllib3<1.27,>=1.21.1 in /usr/local/lib/python3.10/dist-packages (from requests->transformers==4.29) (1.26.15)\n",
            "Requirement already satisfied: certifi>=2017.4.17 in /usr/local/lib/python3.10/dist-packages (from requests->transformers==4.29) (2022.12.7)\n",
            "Requirement already satisfied: charset-normalizer~=2.0.0 in /usr/local/lib/python3.10/dist-packages (from requests->transformers==4.29) (2.0.12)\n",
            "Requirement already satisfied: idna<4,>=2.5 in /usr/local/lib/python3.10/dist-packages (from requests->transformers==4.29) (3.4)\n",
            "Installing collected packages: tokenizers, huggingface-hub, transformers\n",
            "Successfully installed huggingface-hub-0.14.1 tokenizers-0.13.3 transformers-4.29.0\n",
            "Looking in indexes: https://pypi.org/simple, https://us-python.pkg.dev/colab-wheels/public/simple/\n",
            "Collecting sentencepiece\n",
            "  Downloading sentencepiece-0.1.99-cp310-cp310-manylinux_2_17_x86_64.manylinux2014_x86_64.whl (1.3 MB)\n",
            "\u001b[2K     \u001b[90m━━━━━━━━━━━━━━━━━━━━━━━━━━━━━━━━━━━━━━━━\u001b[0m \u001b[32m1.3/1.3 MB\u001b[0m \u001b[31m17.5 MB/s\u001b[0m eta \u001b[36m0:00:00\u001b[0m\n",
            "\u001b[?25hInstalling collected packages: sentencepiece\n",
            "Successfully installed sentencepiece-0.1.99\n",
            "Looking in indexes: https://pypi.org/simple, https://us-python.pkg.dev/colab-wheels/public/simple/\n",
            "Collecting accelerate\n",
            "  Downloading accelerate-0.19.0-py3-none-any.whl (219 kB)\n",
            "\u001b[2K     \u001b[90m━━━━━━━━━━━━━━━━━━━━━━━━━━━━━━━━━━━━━━━\u001b[0m \u001b[32m219.1/219.1 kB\u001b[0m \u001b[31m4.9 MB/s\u001b[0m eta \u001b[36m0:00:00\u001b[0m\n",
            "\u001b[?25hRequirement already satisfied: numpy>=1.17 in /usr/local/lib/python3.10/dist-packages (from accelerate) (1.22.4)\n",
            "Requirement already satisfied: packaging>=20.0 in /usr/local/lib/python3.10/dist-packages (from accelerate) (23.1)\n",
            "Requirement already satisfied: psutil in /usr/local/lib/python3.10/dist-packages (from accelerate) (5.9.5)\n",
            "Requirement already satisfied: pyyaml in /usr/local/lib/python3.10/dist-packages (from accelerate) (6.0)\n",
            "Requirement already satisfied: torch>=1.6.0 in /usr/local/lib/python3.10/dist-packages (from accelerate) (2.0.1+cu118)\n",
            "Requirement already satisfied: filelock in /usr/local/lib/python3.10/dist-packages (from torch>=1.6.0->accelerate) (3.12.0)\n",
            "Requirement already satisfied: typing-extensions in /usr/local/lib/python3.10/dist-packages (from torch>=1.6.0->accelerate) (4.5.0)\n",
            "Requirement already satisfied: sympy in /usr/local/lib/python3.10/dist-packages (from torch>=1.6.0->accelerate) (1.11.1)\n",
            "Requirement already satisfied: networkx in /usr/local/lib/python3.10/dist-packages (from torch>=1.6.0->accelerate) (3.1)\n",
            "Requirement already satisfied: jinja2 in /usr/local/lib/python3.10/dist-packages (from torch>=1.6.0->accelerate) (3.1.2)\n",
            "Requirement already satisfied: triton==2.0.0 in /usr/local/lib/python3.10/dist-packages (from torch>=1.6.0->accelerate) (2.0.0)\n",
            "Requirement already satisfied: cmake in /usr/local/lib/python3.10/dist-packages (from triton==2.0.0->torch>=1.6.0->accelerate) (3.25.2)\n",
            "Requirement already satisfied: lit in /usr/local/lib/python3.10/dist-packages (from triton==2.0.0->torch>=1.6.0->accelerate) (16.0.5)\n",
            "Requirement already satisfied: MarkupSafe>=2.0 in /usr/local/lib/python3.10/dist-packages (from jinja2->torch>=1.6.0->accelerate) (2.1.2)\n",
            "Requirement already satisfied: mpmath>=0.19 in /usr/local/lib/python3.10/dist-packages (from sympy->torch>=1.6.0->accelerate) (1.3.0)\n",
            "Installing collected packages: accelerate\n",
            "Successfully installed accelerate-0.19.0\n",
            "Looking in indexes: https://pypi.org/simple, https://us-python.pkg.dev/colab-wheels/public/simple/\n",
            "Collecting sacrebleu\n",
            "  Downloading sacrebleu-2.3.1-py3-none-any.whl (118 kB)\n",
            "\u001b[2K     \u001b[90m━━━━━━━━━━━━━━━━━━━━━━━━━━━━━━━━━━━━━━━\u001b[0m \u001b[32m118.9/118.9 kB\u001b[0m \u001b[31m3.7 MB/s\u001b[0m eta \u001b[36m0:00:00\u001b[0m\n",
            "\u001b[?25hCollecting portalocker (from sacrebleu)\n",
            "  Downloading portalocker-2.7.0-py2.py3-none-any.whl (15 kB)\n",
            "Requirement already satisfied: regex in /usr/local/lib/python3.10/dist-packages (from sacrebleu) (2022.10.31)\n",
            "Requirement already satisfied: tabulate>=0.8.9 in /usr/local/lib/python3.10/dist-packages (from sacrebleu) (0.8.10)\n",
            "Requirement already satisfied: numpy>=1.17 in /usr/local/lib/python3.10/dist-packages (from sacrebleu) (1.22.4)\n",
            "Collecting colorama (from sacrebleu)\n",
            "  Downloading colorama-0.4.6-py2.py3-none-any.whl (25 kB)\n",
            "Requirement already satisfied: lxml in /usr/local/lib/python3.10/dist-packages (from sacrebleu) (4.9.2)\n",
            "Installing collected packages: portalocker, colorama, sacrebleu\n",
            "Successfully installed colorama-0.4.6 portalocker-2.7.0 sacrebleu-2.3.1\n"
          ]
        }
      ]
    },
    {
      "cell_type": "code",
      "source": [
        "\n"
      ],
      "metadata": {
        "colab": {
          "base_uri": "https://localhost:8080/"
        },
        "id": "DiVUW3lfoCto",
        "outputId": "f4799f99-1627-42b9-c33d-ac0b77b0a61c"
      },
      "id": "DiVUW3lfoCto",
      "execution_count": 4,
      "outputs": [
        {
          "output_type": "stream",
          "name": "stdout",
          "text": [
            "Looking in indexes: https://pypi.org/simple, https://us-python.pkg.dev/colab-wheels/public/simple/\n",
            "Collecting evaluate\n",
            "  Downloading evaluate-0.4.0-py3-none-any.whl (81 kB)\n",
            "\u001b[2K     \u001b[90m━━━━━━━━━━━━━━━━━━━━━━━━━━━━━━━━━━━━━━━━\u001b[0m \u001b[32m81.4/81.4 kB\u001b[0m \u001b[31m2.9 MB/s\u001b[0m eta \u001b[36m0:00:00\u001b[0m\n",
            "\u001b[?25hCollecting datasets>=2.0.0 (from evaluate)\n",
            "  Downloading datasets-2.12.0-py3-none-any.whl (474 kB)\n",
            "\u001b[2K     \u001b[90m━━━━━━━━━━━━━━━━━━━━━━━━━━━━━━━━━━━━━━\u001b[0m \u001b[32m474.6/474.6 kB\u001b[0m \u001b[31m12.1 MB/s\u001b[0m eta \u001b[36m0:00:00\u001b[0m\n",
            "\u001b[?25hRequirement already satisfied: numpy>=1.17 in /usr/local/lib/python3.10/dist-packages (from evaluate) (1.22.4)\n",
            "Collecting dill (from evaluate)\n",
            "  Downloading dill-0.3.6-py3-none-any.whl (110 kB)\n",
            "\u001b[2K     \u001b[90m━━━━━━━━━━━━━━━━━━━━━━━━━━━━━━━━━━━━━━\u001b[0m \u001b[32m110.5/110.5 kB\u001b[0m \u001b[31m11.4 MB/s\u001b[0m eta \u001b[36m0:00:00\u001b[0m\n",
            "\u001b[?25hRequirement already satisfied: pandas in /usr/local/lib/python3.10/dist-packages (from evaluate) (1.5.3)\n",
            "Requirement already satisfied: requests>=2.19.0 in /usr/local/lib/python3.10/dist-packages (from evaluate) (2.27.1)\n",
            "Requirement already satisfied: tqdm>=4.62.1 in /usr/local/lib/python3.10/dist-packages (from evaluate) (4.65.0)\n",
            "Collecting xxhash (from evaluate)\n",
            "  Downloading xxhash-3.2.0-cp310-cp310-manylinux_2_17_x86_64.manylinux2014_x86_64.whl (212 kB)\n",
            "\u001b[2K     \u001b[90m━━━━━━━━━━━━━━━━━━━━━━━━━━━━━━━━━━━━━━\u001b[0m \u001b[32m212.5/212.5 kB\u001b[0m \u001b[31m20.1 MB/s\u001b[0m eta \u001b[36m0:00:00\u001b[0m\n",
            "\u001b[?25hCollecting multiprocess (from evaluate)\n",
            "  Downloading multiprocess-0.70.14-py310-none-any.whl (134 kB)\n",
            "\u001b[2K     \u001b[90m━━━━━━━━━━━━━━━━━━━━━━━━━━━━━━━━━━━━━━━\u001b[0m \u001b[32m134.3/134.3 kB\u001b[0m \u001b[31m6.9 MB/s\u001b[0m eta \u001b[36m0:00:00\u001b[0m\n",
            "\u001b[?25hRequirement already satisfied: fsspec[http]>=2021.05.0 in /usr/local/lib/python3.10/dist-packages (from evaluate) (2023.4.0)\n",
            "Requirement already satisfied: huggingface-hub>=0.7.0 in /usr/local/lib/python3.10/dist-packages (from evaluate) (0.14.1)\n",
            "Requirement already satisfied: packaging in /usr/local/lib/python3.10/dist-packages (from evaluate) (23.1)\n",
            "Collecting responses<0.19 (from evaluate)\n",
            "  Downloading responses-0.18.0-py3-none-any.whl (38 kB)\n",
            "Requirement already satisfied: pyarrow>=8.0.0 in /usr/local/lib/python3.10/dist-packages (from datasets>=2.0.0->evaluate) (9.0.0)\n",
            "Collecting aiohttp (from datasets>=2.0.0->evaluate)\n",
            "  Downloading aiohttp-3.8.4-cp310-cp310-manylinux_2_17_x86_64.manylinux2014_x86_64.whl (1.0 MB)\n",
            "\u001b[2K     \u001b[90m━━━━━━━━━━━━━━━━━━━━━━━━━━━━━━━━━━━━━━━━\u001b[0m \u001b[32m1.0/1.0 MB\u001b[0m \u001b[31m18.1 MB/s\u001b[0m eta \u001b[36m0:00:00\u001b[0m\n",
            "\u001b[?25hRequirement already satisfied: pyyaml>=5.1 in /usr/local/lib/python3.10/dist-packages (from datasets>=2.0.0->evaluate) (6.0)\n",
            "Requirement already satisfied: filelock in /usr/local/lib/python3.10/dist-packages (from huggingface-hub>=0.7.0->evaluate) (3.12.0)\n",
            "Requirement already satisfied: typing-extensions>=3.7.4.3 in /usr/local/lib/python3.10/dist-packages (from huggingface-hub>=0.7.0->evaluate) (4.5.0)\n",
            "Requirement already satisfied: urllib3<1.27,>=1.21.1 in /usr/local/lib/python3.10/dist-packages (from requests>=2.19.0->evaluate) (1.26.15)\n",
            "Requirement already satisfied: certifi>=2017.4.17 in /usr/local/lib/python3.10/dist-packages (from requests>=2.19.0->evaluate) (2022.12.7)\n",
            "Requirement already satisfied: charset-normalizer~=2.0.0 in /usr/local/lib/python3.10/dist-packages (from requests>=2.19.0->evaluate) (2.0.12)\n",
            "Requirement already satisfied: idna<4,>=2.5 in /usr/local/lib/python3.10/dist-packages (from requests>=2.19.0->evaluate) (3.4)\n",
            "Requirement already satisfied: python-dateutil>=2.8.1 in /usr/local/lib/python3.10/dist-packages (from pandas->evaluate) (2.8.2)\n",
            "Requirement already satisfied: pytz>=2020.1 in /usr/local/lib/python3.10/dist-packages (from pandas->evaluate) (2022.7.1)\n",
            "Requirement already satisfied: attrs>=17.3.0 in /usr/local/lib/python3.10/dist-packages (from aiohttp->datasets>=2.0.0->evaluate) (23.1.0)\n",
            "Collecting multidict<7.0,>=4.5 (from aiohttp->datasets>=2.0.0->evaluate)\n",
            "  Downloading multidict-6.0.4-cp310-cp310-manylinux_2_17_x86_64.manylinux2014_x86_64.whl (114 kB)\n",
            "\u001b[2K     \u001b[90m━━━━━━━━━━━━━━━━━━━━━━━━━━━━━━━━━━━━━━\u001b[0m \u001b[32m114.5/114.5 kB\u001b[0m \u001b[31m11.2 MB/s\u001b[0m eta \u001b[36m0:00:00\u001b[0m\n",
            "\u001b[?25hCollecting async-timeout<5.0,>=4.0.0a3 (from aiohttp->datasets>=2.0.0->evaluate)\n",
            "  Downloading async_timeout-4.0.2-py3-none-any.whl (5.8 kB)\n",
            "Collecting yarl<2.0,>=1.0 (from aiohttp->datasets>=2.0.0->evaluate)\n",
            "  Downloading yarl-1.9.2-cp310-cp310-manylinux_2_17_x86_64.manylinux2014_x86_64.whl (268 kB)\n",
            "\u001b[2K     \u001b[90m━━━━━━━━━━━━━━━━━━━━━━━━━━━━━━━━━━━━━━\u001b[0m \u001b[32m268.8/268.8 kB\u001b[0m \u001b[31m19.1 MB/s\u001b[0m eta \u001b[36m0:00:00\u001b[0m\n",
            "\u001b[?25hCollecting frozenlist>=1.1.1 (from aiohttp->datasets>=2.0.0->evaluate)\n",
            "  Downloading frozenlist-1.3.3-cp310-cp310-manylinux_2_5_x86_64.manylinux1_x86_64.manylinux_2_17_x86_64.manylinux2014_x86_64.whl (149 kB)\n",
            "\u001b[2K     \u001b[90m━━━━━━━━━━━━━━━━━━━━━━━━━━━━━━━━━━━━━━\u001b[0m \u001b[32m149.6/149.6 kB\u001b[0m \u001b[31m15.6 MB/s\u001b[0m eta \u001b[36m0:00:00\u001b[0m\n",
            "\u001b[?25hCollecting aiosignal>=1.1.2 (from aiohttp->datasets>=2.0.0->evaluate)\n",
            "  Downloading aiosignal-1.3.1-py3-none-any.whl (7.6 kB)\n",
            "Requirement already satisfied: six>=1.5 in /usr/local/lib/python3.10/dist-packages (from python-dateutil>=2.8.1->pandas->evaluate) (1.16.0)\n",
            "Installing collected packages: xxhash, multidict, frozenlist, dill, async-timeout, yarl, responses, multiprocess, aiosignal, aiohttp, datasets, evaluate\n",
            "Successfully installed aiohttp-3.8.4 aiosignal-1.3.1 async-timeout-4.0.2 datasets-2.12.0 dill-0.3.6 evaluate-0.4.0 frozenlist-1.3.3 multidict-6.0.4 multiprocess-0.70.14 responses-0.18.0 xxhash-3.2.0 yarl-1.9.2\n"
          ]
        }
      ]
    },
    {
      "cell_type": "code",
      "execution_count": 1,
      "id": "ac1348c5-3fdf-49b8-9e3a-3467bb89cd80",
      "metadata": {
        "id": "ac1348c5-3fdf-49b8-9e3a-3467bb89cd80"
      },
      "outputs": [],
      "source": [
        "import numpy as np\n",
        "import pandas as pd\n",
        "from sklearn.model_selection import train_test_split\n",
        "\n",
        "import matplotlib.pyplot as plt\n",
        "import seaborn as sns\n",
        "from tqdm.auto import tqdm\n",
        "\n",
        "import torch\n",
        "import torch.nn as nn\n",
        "import transformers\n",
        "import evaluate\n",
        "\n",
        "%config InlineBackend.figure_format = \"svg\"\n",
        "plt.rcParams[\"figure.figsize\"] = 10, 6\n",
        "\n",
        "SEED = 44\n",
        "torch.manual_seed(SEED)\n",
        "np.random.seed(SEED)"
      ]
    },
    {
      "cell_type": "code",
      "source": [
        "# !mkdir data\n",
        "# !mv rus-eng.zip data\n",
        "cd data\n"
      ],
      "metadata": {
        "colab": {
          "base_uri": "https://localhost:8080/"
        },
        "id": "MCF2336lv8Bb",
        "outputId": "4085f11f-9030-4238-99df-19cbe207a1b6"
      },
      "id": "MCF2336lv8Bb",
      "execution_count": 15,
      "outputs": [
        {
          "output_type": "stream",
          "name": "stdout",
          "text": [
            "/content/data\n"
          ]
        }
      ]
    },
    {
      "cell_type": "code",
      "source": [
        "!unzip rus-eng.zip\n"
      ],
      "metadata": {
        "colab": {
          "base_uri": "https://localhost:8080/"
        },
        "id": "sQfqR-BGwg68",
        "outputId": "314ae444-747d-464e-f70e-ed2c8be91016"
      },
      "id": "sQfqR-BGwg68",
      "execution_count": 16,
      "outputs": [
        {
          "output_type": "stream",
          "name": "stdout",
          "text": [
            "Archive:  rus-eng.zip\n",
            "  inflating: rus.txt                 \n",
            "  inflating: _about.txt              \n"
          ]
        }
      ]
    },
    {
      "cell_type": "code",
      "source": [
        "cd ../"
      ],
      "metadata": {
        "colab": {
          "base_uri": "https://localhost:8080/"
        },
        "id": "SfzihPuQwmTC",
        "outputId": "3af490bc-25c5-4d1d-eaf2-87d0b2fd319f"
      },
      "id": "SfzihPuQwmTC",
      "execution_count": 17,
      "outputs": [
        {
          "output_type": "stream",
          "name": "stdout",
          "text": [
            "/content\n"
          ]
        }
      ]
    },
    {
      "cell_type": "markdown",
      "id": "3fd17aa7-eaed-4cbe-a012-a30106234c23",
      "metadata": {
        "id": "3fd17aa7-eaed-4cbe-a012-a30106234c23"
      },
      "source": [
        "## Data"
      ]
    },
    {
      "cell_type": "code",
      "execution_count": 2,
      "id": "3c60e295-889b-4cf4-8926-42133c363ecf",
      "metadata": {
        "id": "3c60e295-889b-4cf4-8926-42133c363ecf"
      },
      "outputs": [],
      "source": [
        "data = pd.read_csv(\"data/rus.txt\", sep=\"\\t\", names=[\"en\", \"ru\", \"attribution\"])"
      ]
    },
    {
      "cell_type": "code",
      "execution_count": 3,
      "id": "c581c5b9-7f87-4a4c-8d87-a40f35f08d92",
      "metadata": {
        "colab": {
          "base_uri": "https://localhost:8080/",
          "height": 206
        },
        "id": "c581c5b9-7f87-4a4c-8d87-a40f35f08d92",
        "outputId": "c16ce2cd-9dfc-4ffb-dd50-ab6e1679f2c1"
      },
      "outputs": [
        {
          "output_type": "execute_result",
          "data": {
            "text/plain": [
              "                                              en  \\\n",
              "397801  Tom doesn't want to live in the country.   \n",
              "117848                    You'd better sit here.   \n",
              "238444             I read about it in the paper.   \n",
              "191284                Where are you going to go?   \n",
              "295363          I'd like to know the exact time.   \n",
              "\n",
              "                                              ru  \\\n",
              "397801  Фома не хочет жить в сельской местности.   \n",
              "117848                    Вам лучше сесть здесь.   \n",
              "238444                Я прочёл об этом в газете.   \n",
              "191284                 Куда ты собираешься идти?   \n",
              "295363            Я хотел бы знать точное время.   \n",
              "\n",
              "                                              attribution  \n",
              "397801  CC-BY 2.0 (France) Attribution: tatoeba.org #2...  \n",
              "117848  CC-BY 2.0 (France) Attribution: tatoeba.org #1...  \n",
              "238444  CC-BY 2.0 (France) Attribution: tatoeba.org #2...  \n",
              "191284  CC-BY 2.0 (France) Attribution: tatoeba.org #1...  \n",
              "295363  CC-BY 2.0 (France) Attribution: tatoeba.org #2...  "
            ],
            "text/html": [
              "\n",
              "  <div id=\"df-33c8db86-b576-49c5-a811-28e054c7219c\">\n",
              "    <div class=\"colab-df-container\">\n",
              "      <div>\n",
              "<style scoped>\n",
              "    .dataframe tbody tr th:only-of-type {\n",
              "        vertical-align: middle;\n",
              "    }\n",
              "\n",
              "    .dataframe tbody tr th {\n",
              "        vertical-align: top;\n",
              "    }\n",
              "\n",
              "    .dataframe thead th {\n",
              "        text-align: right;\n",
              "    }\n",
              "</style>\n",
              "<table border=\"1\" class=\"dataframe\">\n",
              "  <thead>\n",
              "    <tr style=\"text-align: right;\">\n",
              "      <th></th>\n",
              "      <th>en</th>\n",
              "      <th>ru</th>\n",
              "      <th>attribution</th>\n",
              "    </tr>\n",
              "  </thead>\n",
              "  <tbody>\n",
              "    <tr>\n",
              "      <th>397801</th>\n",
              "      <td>Tom doesn't want to live in the country.</td>\n",
              "      <td>Фома не хочет жить в сельской местности.</td>\n",
              "      <td>CC-BY 2.0 (France) Attribution: tatoeba.org #2...</td>\n",
              "    </tr>\n",
              "    <tr>\n",
              "      <th>117848</th>\n",
              "      <td>You'd better sit here.</td>\n",
              "      <td>Вам лучше сесть здесь.</td>\n",
              "      <td>CC-BY 2.0 (France) Attribution: tatoeba.org #1...</td>\n",
              "    </tr>\n",
              "    <tr>\n",
              "      <th>238444</th>\n",
              "      <td>I read about it in the paper.</td>\n",
              "      <td>Я прочёл об этом в газете.</td>\n",
              "      <td>CC-BY 2.0 (France) Attribution: tatoeba.org #2...</td>\n",
              "    </tr>\n",
              "    <tr>\n",
              "      <th>191284</th>\n",
              "      <td>Where are you going to go?</td>\n",
              "      <td>Куда ты собираешься идти?</td>\n",
              "      <td>CC-BY 2.0 (France) Attribution: tatoeba.org #1...</td>\n",
              "    </tr>\n",
              "    <tr>\n",
              "      <th>295363</th>\n",
              "      <td>I'd like to know the exact time.</td>\n",
              "      <td>Я хотел бы знать точное время.</td>\n",
              "      <td>CC-BY 2.0 (France) Attribution: tatoeba.org #2...</td>\n",
              "    </tr>\n",
              "  </tbody>\n",
              "</table>\n",
              "</div>\n",
              "      <button class=\"colab-df-convert\" onclick=\"convertToInteractive('df-33c8db86-b576-49c5-a811-28e054c7219c')\"\n",
              "              title=\"Convert this dataframe to an interactive table.\"\n",
              "              style=\"display:none;\">\n",
              "        \n",
              "  <svg xmlns=\"http://www.w3.org/2000/svg\" height=\"24px\"viewBox=\"0 0 24 24\"\n",
              "       width=\"24px\">\n",
              "    <path d=\"M0 0h24v24H0V0z\" fill=\"none\"/>\n",
              "    <path d=\"M18.56 5.44l.94 2.06.94-2.06 2.06-.94-2.06-.94-.94-2.06-.94 2.06-2.06.94zm-11 1L8.5 8.5l.94-2.06 2.06-.94-2.06-.94L8.5 2.5l-.94 2.06-2.06.94zm10 10l.94 2.06.94-2.06 2.06-.94-2.06-.94-.94-2.06-.94 2.06-2.06.94z\"/><path d=\"M17.41 7.96l-1.37-1.37c-.4-.4-.92-.59-1.43-.59-.52 0-1.04.2-1.43.59L10.3 9.45l-7.72 7.72c-.78.78-.78 2.05 0 2.83L4 21.41c.39.39.9.59 1.41.59.51 0 1.02-.2 1.41-.59l7.78-7.78 2.81-2.81c.8-.78.8-2.07 0-2.86zM5.41 20L4 18.59l7.72-7.72 1.47 1.35L5.41 20z\"/>\n",
              "  </svg>\n",
              "      </button>\n",
              "      \n",
              "  <style>\n",
              "    .colab-df-container {\n",
              "      display:flex;\n",
              "      flex-wrap:wrap;\n",
              "      gap: 12px;\n",
              "    }\n",
              "\n",
              "    .colab-df-convert {\n",
              "      background-color: #E8F0FE;\n",
              "      border: none;\n",
              "      border-radius: 50%;\n",
              "      cursor: pointer;\n",
              "      display: none;\n",
              "      fill: #1967D2;\n",
              "      height: 32px;\n",
              "      padding: 0 0 0 0;\n",
              "      width: 32px;\n",
              "    }\n",
              "\n",
              "    .colab-df-convert:hover {\n",
              "      background-color: #E2EBFA;\n",
              "      box-shadow: 0px 1px 2px rgba(60, 64, 67, 0.3), 0px 1px 3px 1px rgba(60, 64, 67, 0.15);\n",
              "      fill: #174EA6;\n",
              "    }\n",
              "\n",
              "    [theme=dark] .colab-df-convert {\n",
              "      background-color: #3B4455;\n",
              "      fill: #D2E3FC;\n",
              "    }\n",
              "\n",
              "    [theme=dark] .colab-df-convert:hover {\n",
              "      background-color: #434B5C;\n",
              "      box-shadow: 0px 1px 3px 1px rgba(0, 0, 0, 0.15);\n",
              "      filter: drop-shadow(0px 1px 2px rgba(0, 0, 0, 0.3));\n",
              "      fill: #FFFFFF;\n",
              "    }\n",
              "  </style>\n",
              "\n",
              "      <script>\n",
              "        const buttonEl =\n",
              "          document.querySelector('#df-33c8db86-b576-49c5-a811-28e054c7219c button.colab-df-convert');\n",
              "        buttonEl.style.display =\n",
              "          google.colab.kernel.accessAllowed ? 'block' : 'none';\n",
              "\n",
              "        async function convertToInteractive(key) {\n",
              "          const element = document.querySelector('#df-33c8db86-b576-49c5-a811-28e054c7219c');\n",
              "          const dataTable =\n",
              "            await google.colab.kernel.invokeFunction('convertToInteractive',\n",
              "                                                     [key], {});\n",
              "          if (!dataTable) return;\n",
              "\n",
              "          const docLinkHtml = 'Like what you see? Visit the ' +\n",
              "            '<a target=\"_blank\" href=https://colab.research.google.com/notebooks/data_table.ipynb>data table notebook</a>'\n",
              "            + ' to learn more about interactive tables.';\n",
              "          element.innerHTML = '';\n",
              "          dataTable['output_type'] = 'display_data';\n",
              "          await google.colab.output.renderOutput(dataTable, element);\n",
              "          const docLink = document.createElement('div');\n",
              "          docLink.innerHTML = docLinkHtml;\n",
              "          element.appendChild(docLink);\n",
              "        }\n",
              "      </script>\n",
              "    </div>\n",
              "  </div>\n",
              "  "
            ]
          },
          "metadata": {},
          "execution_count": 3
        }
      ],
      "source": [
        "data.sample(5, random_state=SEED)"
      ]
    },
    {
      "cell_type": "code",
      "execution_count": 11,
      "id": "b2830161-1b3c-4729-a1e5-17e3154ca863",
      "metadata": {
        "id": "b2830161-1b3c-4729-a1e5-17e3154ca863"
      },
      "outputs": [],
      "source": [
        "data = data.sample(1000, random_state=SEED)"
      ]
    },
    {
      "cell_type": "code",
      "execution_count": 15,
      "id": "01a000cb-3077-4ee5-b880-c420337ac016",
      "metadata": {
        "id": "01a000cb-3077-4ee5-b880-c420337ac016"
      },
      "outputs": [],
      "source": [
        "trainval, test = train_test_split(data, test_size=0.2, random_state=SEED)\n",
        "train, val = train_test_split(trainval, test_size=0.2, random_state=SEED)"
      ]
    },
    {
      "cell_type": "code",
      "execution_count": 16,
      "id": "278c6748-b882-4519-bcbd-fbe327546e44",
      "metadata": {
        "id": "278c6748-b882-4519-bcbd-fbe327546e44"
      },
      "outputs": [],
      "source": [
        "model_name = \"cointegrated/rut5-base\"\n",
        "\n",
        "tokenizer = transformers.T5Tokenizer.from_pretrained(model_name)\n",
        "\n",
        "def tokenize_data(data, tokenizer): \n",
        "    english_tokenized = None if \"en\" not in data else tokenizer(data[\"en\"].tolist(), truncation=True, max_length=36)\n",
        "    russian_tokenized = None if \"ru\" not in data else tokenizer(data[\"ru\"].tolist(), truncation=True, max_length=36)\n",
        "\n",
        "    return english_tokenized, russian_tokenized"
      ]
    },
    {
      "cell_type": "code",
      "execution_count": 17,
      "id": "eaf14ef1-9e87-479b-89b2-73b4e245c162",
      "metadata": {
        "colab": {
          "base_uri": "https://localhost:8080/"
        },
        "id": "eaf14ef1-9e87-479b-89b2-73b4e245c162",
        "outputId": "0fe8c685-553c-4113-bb44-b3768aa276e9"
      },
      "outputs": [
        {
          "output_type": "stream",
          "name": "stdout",
          "text": [
            "CPU times: user 256 ms, sys: 830 µs, total: 257 ms\n",
            "Wall time: 268 ms\n"
          ]
        }
      ],
      "source": [
        "%%time\n",
        "tokenized = {\n",
        "    \"train\": tokenize_data(train, tokenizer),\n",
        "    \"val\": tokenize_data(val, tokenizer),\n",
        "    \"test\": tokenize_data(test, tokenizer),\n",
        "}"
      ]
    },
    {
      "cell_type": "code",
      "execution_count": 18,
      "id": "8fa39096-b752-4c53-b2e2-c1a74952b952",
      "metadata": {
        "id": "8fa39096-b752-4c53-b2e2-c1a74952b952"
      },
      "outputs": [],
      "source": [
        "class TranslationDataset(torch.utils.data.Dataset):\n",
        "    def __init__(self, english, russian):\n",
        "        super().__init__()\n",
        "        self.english = english\n",
        "        self.russian = russian\n",
        "        \n",
        "        assert english is not None or russian is not None\n",
        "    \n",
        "    def __getitem__(self, index):\n",
        "        item = {}\n",
        "\n",
        "        if self.english is not None:\n",
        "            item[\"input_ids\"] = torch.tensor(self.english[\"input_ids\"][index], dtype=torch.long)\n",
        "            item[\"attention_mask\"] = torch.tensor(self.english[\"attention_mask\"][index])\n",
        "        \n",
        "        if self.russian is not None:\n",
        "            item[\"labels\"] = torch.tensor(self.russian[\"input_ids\"][index], dtype=torch.long)\n",
        "            item[\"labels_attention_mask\"] = torch.tensor(self.russian[\"attention_mask\"][index])\n",
        "\n",
        "        assert len(item) > 0\n",
        "        \n",
        "        return item\n",
        "\n",
        "    def __len__(self):\n",
        "        return len(self.english[\"input_ids\"]) if self.english is not None else len(self.russian[\"input_ids\"])"
      ]
    },
    {
      "cell_type": "code",
      "execution_count": 19,
      "id": "4d3ece78-3fb5-4106-aadd-ac18f9a118c4",
      "metadata": {
        "id": "4d3ece78-3fb5-4106-aadd-ac18f9a118c4"
      },
      "outputs": [],
      "source": [
        "train_ds = TranslationDataset(*tokenized[\"train\"])\n",
        "val_ds = TranslationDataset(*tokenized[\"val\"])\n",
        "test_ds = TranslationDataset(*tokenized[\"test\"])"
      ]
    },
    {
      "cell_type": "code",
      "execution_count": 20,
      "id": "e2897842-756e-49bb-8c12-66c04d403048",
      "metadata": {
        "colab": {
          "base_uri": "https://localhost:8080/"
        },
        "id": "e2897842-756e-49bb-8c12-66c04d403048",
        "outputId": "1a2e76a0-e4cf-4816-84f7-1827e13fb04a"
      },
      "outputs": [
        {
          "output_type": "execute_result",
          "data": {
            "text/plain": [
              "{'input_ids': tensor([2502,  339, 2459,  259, 2753,  288, 2008, 1169,  291,    1]),\n",
              " 'attention_mask': tensor([1, 1, 1, 1, 1, 1, 1, 1, 1, 1]),\n",
              " 'labels': tensor([2117, 8996, 7886, 1167,  291,    1]),\n",
              " 'labels_attention_mask': tensor([1, 1, 1, 1, 1, 1])}"
            ]
          },
          "metadata": {},
          "execution_count": 20
        }
      ],
      "source": [
        "train_ds[3]"
      ]
    },
    {
      "cell_type": "code",
      "execution_count": 21,
      "id": "3866e7b0-5058-42cf-98c6-002eb71240fe",
      "metadata": {
        "colab": {
          "base_uri": "https://localhost:8080/"
        },
        "id": "3866e7b0-5058-42cf-98c6-002eb71240fe",
        "outputId": "f4f9986e-4a39-4a04-b058-21bd323fd8ff"
      },
      "outputs": [
        {
          "output_type": "execute_result",
          "data": {
            "text/plain": [
              "[1, 2, 0]"
            ]
          },
          "metadata": {},
          "execution_count": 21
        }
      ],
      "source": [
        "tokenizer.all_special_ids"
      ]
    },
    {
      "cell_type": "code",
      "execution_count": 22,
      "id": "b8d9661e-942e-4db6-997b-024c7c131bee",
      "metadata": {
        "colab": {
          "base_uri": "https://localhost:8080/"
        },
        "id": "b8d9661e-942e-4db6-997b-024c7c131bee",
        "outputId": "5a427161-265b-4c4b-f3e3-6dbc13666b9e"
      },
      "outputs": [
        {
          "output_type": "execute_result",
          "data": {
            "text/plain": [
              "['</s>', '<unk>', '<pad>']"
            ]
          },
          "metadata": {},
          "execution_count": 22
        }
      ],
      "source": [
        "tokenizer.all_special_tokens"
      ]
    },
    {
      "cell_type": "code",
      "source": [
        "tokenizer.add_special_tokens({'additional_special_tokens': ['<eng2ru>', '<ru2eng>']}, )\n",
        "tokenizer.all_special_ids, tokenizer.all_special_tokens"
      ],
      "metadata": {
        "colab": {
          "base_uri": "https://localhost:8080/"
        },
        "id": "Kj4QPBUsxbXg",
        "outputId": "dc7ff484-5d43-4cbd-a81f-efcb02cc236f"
      },
      "id": "Kj4QPBUsxbXg",
      "execution_count": 23,
      "outputs": [
        {
          "output_type": "execute_result",
          "data": {
            "text/plain": [
              "([1, 2, 0, 30000, 30001], ['</s>', '<unk>', '<pad>', '<eng2ru>', '<ru2eng>'])"
            ]
          },
          "metadata": {},
          "execution_count": 23
        }
      ]
    },
    {
      "cell_type": "code",
      "source": [
        "tokenizer.special_tokens_map['additional_special_tokens']"
      ],
      "metadata": {
        "colab": {
          "base_uri": "https://localhost:8080/"
        },
        "id": "rQh8s5iI2vwo",
        "outputId": "53be9494-54f5-479b-fc87-5298172a4114"
      },
      "id": "rQh8s5iI2vwo",
      "execution_count": 24,
      "outputs": [
        {
          "output_type": "execute_result",
          "data": {
            "text/plain": [
              "['<eng2ru>', '<ru2eng>']"
            ]
          },
          "metadata": {},
          "execution_count": 24
        }
      ]
    },
    {
      "cell_type": "code",
      "source": [
        "tokenizer('<eng2ru>')"
      ],
      "metadata": {
        "colab": {
          "base_uri": "https://localhost:8080/"
        },
        "id": "5mBxXpw-yaUN",
        "outputId": "3019ee32-6ba5-4ca1-d58b-41cf68b8f01d"
      },
      "id": "5mBxXpw-yaUN",
      "execution_count": 25,
      "outputs": [
        {
          "output_type": "execute_result",
          "data": {
            "text/plain": [
              "{'input_ids': [30000, 1], 'attention_mask': [1, 1]}"
            ]
          },
          "metadata": {},
          "execution_count": 25
        }
      ]
    },
    {
      "cell_type": "code",
      "source": [
        "tokenizer.convert_tokens_to_ids('<eng2ru>')"
      ],
      "metadata": {
        "colab": {
          "base_uri": "https://localhost:8080/"
        },
        "id": "OyLdutKl3OXG",
        "outputId": "402ebff5-e945-4dde-a91e-7af48a6a2a2c"
      },
      "id": "OyLdutKl3OXG",
      "execution_count": 26,
      "outputs": [
        {
          "output_type": "execute_result",
          "data": {
            "text/plain": [
              "30000"
            ]
          },
          "metadata": {},
          "execution_count": 26
        }
      ]
    },
    {
      "cell_type": "code",
      "execution_count": 27,
      "id": "2a932142-9e76-490a-b006-88cb7a93779d",
      "metadata": {
        "id": "2a932142-9e76-490a-b006-88cb7a93779d"
      },
      "outputs": [],
      "source": [
        "from torch.nn.utils.rnn import pad_sequence\n",
        "\n",
        "def collator(examples):\n",
        "    #print(\"N examples:\", len(examples))\n",
        "    #print(\"First example:\", examples[0])\n",
        "    \n",
        "    batch_keys = examples[0].keys()\n",
        "\n",
        "    batch = {key: pad_sequence([sample[key] for sample in examples], batch_first=True, padding_value=0)\n",
        "            for key in batch_keys}\n",
        "\n",
        "    #print(\"Keys after batching:\", batch.keys())\n",
        "    #print(\"After batching:\", len(batch[\"english_input_ids\"]))\n",
        "\n",
        "    return batch"
      ]
    },
    {
      "cell_type": "code",
      "execution_count": 28,
      "id": "8c0334a9-eb92-4a16-b64e-e9a6bbe05893",
      "metadata": {
        "id": "8c0334a9-eb92-4a16-b64e-e9a6bbe05893"
      },
      "outputs": [],
      "source": [
        "batch_size = 1\n",
        "train_loader = torch.utils.data.DataLoader(train_ds, batch_size=batch_size, shuffle=True, collate_fn=collator)\n",
        "\n",
        "for batch in train_loader:\n",
        "    break"
      ]
    },
    {
      "cell_type": "code",
      "execution_count": 29,
      "id": "09b4e2a0-5a59-4ecd-8aee-81fa885618bb",
      "metadata": {
        "colab": {
          "base_uri": "https://localhost:8080/"
        },
        "id": "09b4e2a0-5a59-4ecd-8aee-81fa885618bb",
        "outputId": "5916fea8-44e7-491d-afce-9817882f5000"
      },
      "outputs": [
        {
          "output_type": "execute_result",
          "data": {
            "text/plain": [
              "(torch.Size([1, 10]),\n",
              " torch.Size([1, 10]),\n",
              " torch.Size([1, 8]),\n",
              " torch.Size([1, 8]))"
            ]
          },
          "metadata": {},
          "execution_count": 29
        }
      ],
      "source": [
        "batch[\"input_ids\"].shape,\\\n",
        "batch[\"attention_mask\"].shape,\\\n",
        "batch[\"labels\"].shape,\\\n",
        "batch[\"labels_attention_mask\"].shape,"
      ]
    },
    {
      "cell_type": "markdown",
      "id": "d62b96b3-1585-4355-882c-13b5d1381027",
      "metadata": {
        "id": "d62b96b3-1585-4355-882c-13b5d1381027"
      },
      "source": [
        "## Model"
      ]
    },
    {
      "cell_type": "code",
      "source": [
        "torch.cuda.is_available()"
      ],
      "metadata": {
        "colab": {
          "base_uri": "https://localhost:8080/"
        },
        "id": "2B-1PohntNMw",
        "outputId": "377de3ce-f630-4610-e80e-cda7f394a03b"
      },
      "id": "2B-1PohntNMw",
      "execution_count": 30,
      "outputs": [
        {
          "output_type": "execute_result",
          "data": {
            "text/plain": [
              "False"
            ]
          },
          "metadata": {},
          "execution_count": 30
        }
      ]
    },
    {
      "cell_type": "code",
      "execution_count": 31,
      "id": "2ecbc194-4538-4a2e-b1b9-a3d0554af667",
      "metadata": {
        "id": "2ecbc194-4538-4a2e-b1b9-a3d0554af667"
      },
      "outputs": [],
      "source": [
        "device = torch.device(\"cpu\")"
      ]
    },
    {
      "cell_type": "code",
      "execution_count": 32,
      "id": "64125f85-7eff-4d40-91be-b950a0387998",
      "metadata": {
        "id": "64125f85-7eff-4d40-91be-b950a0387998"
      },
      "outputs": [],
      "source": [
        "#model = transformers.T5ForConditionalGeneration.from_pretrained(model_name)\n",
        "\n",
        "# we need randomly initilialised model\n",
        "model = transformers.T5ForConditionalGeneration(transformers.T5Config.from_pretrained(model_name)).to(device)\n",
        "pass"
      ]
    },
    {
      "cell_type": "code",
      "execution_count": 33,
      "id": "aa48555e-ad54-49f7-9613-2856ec10ca9f",
      "metadata": {
        "id": "aa48555e-ad54-49f7-9613-2856ec10ca9f"
      },
      "outputs": [],
      "source": [
        "dummy_tokens = torch.arange(batch_size * 450).reshape(batch_size, 450).to(device)\n",
        "dummy_mask = torch.ones_like(dummy_tokens).to(device)\n",
        "dummy_prefix = torch.arange(batch_size * 35).reshape(batch_size, 35).to(device) + 22\n",
        "\n",
        "out = model(input_ids=dummy_tokens, attention_mask=dummy_mask, labels=dummy_prefix)"
      ]
    },
    {
      "cell_type": "code",
      "source": [
        "tokenizer(\"мама мыла раму\")"
      ],
      "metadata": {
        "colab": {
          "base_uri": "https://localhost:8080/"
        },
        "id": "pyb9feuF5g9k",
        "outputId": "150061de-1aca-496d-8c16-8b1f9f5a1a37"
      },
      "id": "pyb9feuF5g9k",
      "execution_count": 34,
      "outputs": [
        {
          "output_type": "execute_result",
          "data": {
            "text/plain": [
              "{'input_ids': [15806, 2073, 1200, 5018, 354, 1], 'attention_mask': [1, 1, 1, 1, 1, 1]}"
            ]
          },
          "metadata": {},
          "execution_count": 34
        }
      ]
    },
    {
      "cell_type": "code",
      "source": [
        "generated = model.generate(input_ids = torch.tensor(tokenizer(\"мама мыла раму\")['input_ids']).reshape(1, -1), \n",
        "               attention_mask = torch.tensor(tokenizer(\"мама мыла раму\")['attention_mask']).reshape(1, -1),)\n",
        "\n",
        "generated"
      ],
      "metadata": {
        "colab": {
          "base_uri": "https://localhost:8080/"
        },
        "id": "Mu8DbiG141Sa",
        "outputId": "420e830f-5156-4799-de1c-286490f79cc3"
      },
      "id": "Mu8DbiG141Sa",
      "execution_count": 35,
      "outputs": [
        {
          "output_type": "stream",
          "name": "stderr",
          "text": [
            "/usr/local/lib/python3.10/dist-packages/transformers/generation/utils.py:1346: UserWarning: Using `max_length`'s default (20) to control the generation length. This behaviour is deprecated and will be removed from the config in v5 of Transformers -- we recommend using `max_new_tokens` to control the maximum length of the generation.\n",
            "  warnings.warn(\n"
          ]
        },
        {
          "output_type": "execute_result",
          "data": {
            "text/plain": [
              "tensor([[    0,   137,  5369, 12147, 28277,  2265, 20250,  6388,  6388, 26262,\n",
              "          6388,  1063,  5082, 24154, 13712, 27545,  5082, 12537,   952,  6388]])"
            ]
          },
          "metadata": {},
          "execution_count": 35
        }
      ]
    },
    {
      "cell_type": "code",
      "execution_count": 36,
      "id": "3af77e67-3a69-4ff0-96af-cbd61cc64f3a",
      "metadata": {
        "id": "3af77e67-3a69-4ff0-96af-cbd61cc64f3a"
      },
      "outputs": [],
      "source": [
        "del model, out, dummy_mask, dummy_tokens, dummy_prefix"
      ]
    },
    {
      "cell_type": "markdown",
      "id": "5aa33c8c-a0db-44e6-ae15-333563d8b02d",
      "metadata": {
        "id": "5aa33c8c-a0db-44e6-ae15-333563d8b02d"
      },
      "source": [
        "## Training utils (not used yet)"
      ]
    },
    {
      "cell_type": "code",
      "execution_count": 37,
      "id": "411d8de7-a84c-453a-84d4-0097953526b6",
      "metadata": {
        "id": "411d8de7-a84c-453a-84d4-0097953526b6"
      },
      "outputs": [],
      "source": [
        "def shift_right(tensor, pad_token_id = 0):\n",
        "    # print(tensor)\n",
        "    shifted_tensor = tensor.new_zeros(tensor.shape)\n",
        "    shifted_tensor[..., 1:] = tensor[..., :-1].clone()\n",
        "    shifted_tensor[..., 0] = pad_token_id\n",
        "\n",
        "    return shifted_tensor\n",
        "\n",
        "class CustomTrainer(transformers.Seq2SeqTrainer):\n",
        "\n",
        "\n",
        "    def compute_loss(self, model, inputs, return_outputs=False):\n",
        "        # tokens ids\n",
        "        eng2ru = self.tokenizer.convert_tokens_to_ids('<eng2ru>')\n",
        "        ru2eng = self.tokenizer.convert_tokens_to_ids('<ru2eng>')\n",
        "        pad = self.tokenizer.convert_tokens_to_ids('<pad>')\n",
        "\n",
        "        english_input_ids = inputs.get(\"input_ids\")\n",
        "        russian_input_ids = inputs.get(\"labels\")\n",
        "        english_attention_mask = inputs.get(\"attention_mask\")\n",
        "        russian_attention_mask = inputs.get(\"labels_attention_mask\")\n",
        "\n",
        "        eng2ru_generated = model.generate(input_ids = shift_right(english_input_ids, eng2ru), \n",
        "                                           attention_mask = english_attention_mask)\n",
        "        \n",
        "        ru2eng_generated = model.generate(input_ids = shift_right(russian_input_ids, ru2eng), \n",
        "                                           attention_mask = russian_attention_mask)\n",
        "        \n",
        "        eng2eng_generated = model.generate(input_ids = shift_right(english_input_ids, ru2eng), \n",
        "                                           attention_mask = english_attention_mask)\n",
        "        \n",
        "        ru2ru_generated = model.generate(input_ids = shift_right(russian_input_ids, eng2ru), \n",
        "                                           attention_mask = russian_attention_mask)\n",
        "        \n",
        "        # Cycle Consistency loss\n",
        "        # (eng -> rus) -> eng\n",
        "        en_cyc_loss = model(\n",
        "            input_ids=shift_right(eng2ru_generated, ru2eng),\n",
        "            attention_mask=torch.ones_like(eng2ru_generated),\n",
        "            labels=shift_right(english_input_ids, pad),\n",
        "            decoder_attention_mask=shift_right(shift_right(english_attention_mask)),\n",
        "        ).loss\n",
        "\n",
        "        # (rus -> eng) -> rus\n",
        "        ru_cyc_loss = model(\n",
        "            input_ids=shift_right(ru2eng_generated, eng2ru),\n",
        "            attention_mask=torch.ones_like(ru2eng_generated),\n",
        "            labels=shift_right(russian_input_ids, pad),\n",
        "            decoder_attention_mask=shift_right(shift_right(russian_attention_mask)),\n",
        "        ).loss\n",
        "\n",
        "        # Identity loss (optional )\n",
        "        # rus -> rus\n",
        "        ru_id_loss = model(\n",
        "            input_ids=shift_right(russian_input_ids, eng2ru),\n",
        "            attention_mask=shift_right(russian_attention_mask),\n",
        "            labels=shift_right(russian_input_ids, pad),\n",
        "            decoder_attention_mask=shift_right(shift_right(russian_attention_mask)),\n",
        "        ).loss\n",
        "\n",
        "        # eng -> eng\n",
        "        en_id_loss = model(\n",
        "            input_ids=shift_right(english_input_ids, ru2eng),\n",
        "            attention_mask=shift_right(english_attention_mask),\n",
        "            labels=shift_right(english_input_ids, pad),\n",
        "            decoder_attention_mask=shift_right(shift_right(english_attention_mask)),\n",
        "        ).loss\n",
        "\n",
        "        # usual loss\n",
        "        en_ru = model(\n",
        "            input_ids=shift_right(english_input_ids, eng2ru),\n",
        "            attention_mask=shift_right(english_attention_mask),\n",
        "            labels=shift_right(russian_input_ids, pad),\n",
        "            decoder_attention_mask=shift_right(shift_right(russian_attention_mask)),\n",
        "        )\n",
        "\n",
        "        ru_en = model(\n",
        "            input_ids=shift_right(russian_input_ids, ru2eng),\n",
        "            attention_mask=shift_right(russian_attention_mask),\n",
        "            labels=shift_right(english_input_ids, pad),\n",
        "            decoder_attention_mask=shift_right(shift_right(english_attention_mask)),   \n",
        "        )\n",
        "\n",
        "        loss = ru_en.loss + en_ru.loss + en_cyc_loss + ru_cyc_loss + ru_id_loss + en_id_loss\n",
        "\n",
        "        return (loss, {\"ru_en\": ru_en, \"en_ru\": en_ru}) if return_outputs else loss\n"
      ]
    },
    {
      "cell_type": "markdown",
      "id": "c926d2a6-4c2e-4aa1-b6bf-02647baa0109",
      "metadata": {
        "id": "c926d2a6-4c2e-4aa1-b6bf-02647baa0109"
      },
      "source": [
        "## Evaluation utils"
      ]
    },
    {
      "cell_type": "code",
      "execution_count": 38,
      "id": "ede765b1-594f-41fc-bfeb-5c02b44dc23a",
      "metadata": {
        "id": "ede765b1-594f-41fc-bfeb-5c02b44dc23a"
      },
      "outputs": [],
      "source": [
        "def postprocess_text(preds, labels):\n",
        "    preds = [pred.strip() for pred in preds]\n",
        "    labels = [[label.strip()] for label in labels]\n",
        "\n",
        "    return preds, labels"
      ]
    },
    {
      "cell_type": "code",
      "execution_count": 39,
      "id": "6dc288f8-58e8-4fd8-a44f-e2d298787300",
      "metadata": {
        "id": "6dc288f8-58e8-4fd8-a44f-e2d298787300"
      },
      "outputs": [],
      "source": [
        "metric = evaluate.load(\"sacrebleu\")\n",
        "\n",
        "def compute_metrics(eval_preds):\n",
        "    preds, labels = eval_preds\n",
        "    if isinstance(preds, tuple):\n",
        "        preds = preds[0]\n",
        "    decoded_preds = tokenizer.batch_decode(preds, skip_special_tokens=True)\n",
        "\n",
        "    labels = np.where(labels != -100, labels, tokenizer.pad_token_id)\n",
        "    decoded_labels = tokenizer.batch_decode(labels, skip_special_tokens=True)\n",
        "\n",
        "    decoded_preds, decoded_labels = postprocess_text(decoded_preds, decoded_labels)\n",
        "\n",
        "    result = metric.compute(predictions=decoded_preds, references=decoded_labels)\n",
        "    result = {\"bleu\": result[\"score\"]}\n",
        "\n",
        "    prediction_lens = [np.count_nonzero(pred != tokenizer.pad_token_id) for pred in preds]\n",
        "    result[\"gen_len\"] = np.mean(prediction_lens)\n",
        "    result = {k: round(v, 4) for k, v in result.items()}\n",
        "\n",
        "    return result\n"
      ]
    },
    {
      "cell_type": "markdown",
      "id": "79a24aa0-ef65-4a14-95af-67348863502a",
      "metadata": {
        "id": "79a24aa0-ef65-4a14-95af-67348863502a"
      },
      "source": [
        "## Training"
      ]
    },
    {
      "cell_type": "code",
      "execution_count": 40,
      "id": "b89c393a-9b75-4a2c-a566-65a7238ff3da",
      "metadata": {
        "id": "b89c393a-9b75-4a2c-a566-65a7238ff3da"
      },
      "outputs": [],
      "source": [
        "training_args = transformers.Seq2SeqTrainingArguments(\n",
        "    output_dir=f\"./results/baseline-{model_name}\",\n",
        "    num_train_epochs=5,\n",
        "    per_device_train_batch_size=batch_size,\n",
        "    per_device_eval_batch_size=batch_size,\n",
        "    gradient_accumulation_steps=max(1, 16 // batch_size),\n",
        "    learning_rate=5e-5,\n",
        "    weight_decay=0.1,\n",
        "    logging_steps=10,\n",
        "    predict_with_generate=True,\n",
        "    evaluation_strategy=\"epoch\",\n",
        "    save_total_limit=1,\n",
        "    seed=SEED,\n",
        "    data_seed=SEED,\n",
        "    #fp16=True, \n",
        "    remove_unused_columns=False\n",
        "    #remove_unused_columns=False,\n",
        ")"
      ]
    },
    {
      "cell_type": "code",
      "execution_count": 41,
      "id": "19599672-cadd-4774-885f-fce7ab219a53",
      "metadata": {
        "id": "19599672-cadd-4774-885f-fce7ab219a53"
      },
      "outputs": [],
      "source": [
        "model = transformers.T5ForConditionalGeneration(transformers.T5Config.from_pretrained(model_name)).to(device)\n",
        "model.resize_token_embeddings(len(tokenizer)) # to reshape embedings (as we added special tokens)\n",
        "\n",
        "opt = torch.optim.AdamW(\n",
        "    model.parameters(),\n",
        "    lr=training_args.learning_rate, \n",
        "    weight_decay=training_args.weight_decay\n",
        ")\n",
        "\n",
        "scheduler = transformers.get_cosine_schedule_with_warmup(optimizer=opt, \n",
        "    num_warmup_steps=len(train_loader) * training_args.num_train_epochs // 5, \n",
        "    num_training_steps=len(train_loader) * training_args.num_train_epochs,\n",
        ")"
      ]
    },
    {
      "cell_type": "code",
      "execution_count": 42,
      "id": "3440f65b-c20e-4557-885b-1c87a9d7b3c5",
      "metadata": {
        "id": "3440f65b-c20e-4557-885b-1c87a9d7b3c5"
      },
      "outputs": [],
      "source": [
        "trainer = CustomTrainer(\n",
        "    model=model, \n",
        "    args=training_args, \n",
        "    data_collator=collator, \n",
        "    train_dataset=train_ds,\n",
        "    eval_dataset=val_ds,\n",
        "    tokenizer=tokenizer,\n",
        "    optimizers=(opt, scheduler),\n",
        "    compute_metrics=compute_metrics,\n",
        ")"
      ]
    },
    {
      "cell_type": "code",
      "execution_count": null,
      "id": "1085a055-e2ad-4f2e-b216-beef183fb151",
      "metadata": {
        "colab": {
          "base_uri": "https://localhost:8080/",
          "height": 75
        },
        "id": "1085a055-e2ad-4f2e-b216-beef183fb151",
        "outputId": "ba4ce028-ba0e-40c7-ecdc-ecddf419211c"
      },
      "outputs": [
        {
          "output_type": "display_data",
          "data": {
            "text/plain": [
              "<IPython.core.display.HTML object>"
            ],
            "text/html": [
              "\n",
              "    <div>\n",
              "      \n",
              "      <progress value='2' max='200' style='width:300px; height:20px; vertical-align: middle;'></progress>\n",
              "      [  2/200 : < :, Epoch 0.03/5]\n",
              "    </div>\n",
              "    <table border=\"1\" class=\"dataframe\">\n",
              "  <thead>\n",
              " <tr style=\"text-align: left;\">\n",
              "      <th>Epoch</th>\n",
              "      <th>Training Loss</th>\n",
              "      <th>Validation Loss</th>\n",
              "    </tr>\n",
              "  </thead>\n",
              "  <tbody>\n",
              "  </tbody>\n",
              "</table><p>"
            ]
          },
          "metadata": {}
        }
      ],
      "source": [
        "#trainer.train(ignore_keys_for_eval=[\"labels_attention_mask\"])\n",
        "trainer.train()"
      ]
    },
    {
      "cell_type": "code",
      "source": [],
      "metadata": {
        "id": "xo5Zc1XssPlb"
      },
      "id": "xo5Zc1XssPlb",
      "execution_count": null,
      "outputs": []
    }
  ],
  "metadata": {
    "kernelspec": {
      "display_name": "Python 3",
      "name": "python3"
    },
    "language_info": {
      "name": "python"
    },
    "colab": {
      "provenance": [],
      "gpuType": "T4"
    },
    "gpuClass": "standard"
  },
  "nbformat": 4,
  "nbformat_minor": 5
}